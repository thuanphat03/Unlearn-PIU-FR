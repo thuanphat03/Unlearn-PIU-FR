{
 "cells": [
  {
   "cell_type": "markdown",
   "metadata": {
    "id": "JD5_JulRpIdq"
   },
   "source": [
    "#### <b>Family Relationship Dataset</b>\n",
    "\n",
    "1. It consists of a total of 900 households and approximately exact 13,068 individuals.\n",
    "2. The last part of the filename, such as \"a1\", indicates the \"age group\".\n",
    "  * This dataset consists of 8 age group classes.\n",
    "  * The task is one of the 8-classes classification problem.\n",
    "  * If we perform random guessing, the accuracy is approximately 12.5%.\n",
    "3. The age classification problem is somewhat challenging, thus, we expect that our dataset will be helpful for evaluating the forgetting performance of a machine unlearning algorithm.\n",
    "  * Our proposed setting has been configured in a way that is almost similar to the NeurIPS Kaggle Competition 2023 held on Kaggle.\n",
    "4. We have utilized \"Family Relationship Dataset\" from AI Hub for constructing this dataset.\n",
    "  * <b>Link</b>: https://www.aihub.or.kr/aihubdata/data/view.do?currMenu=&topMenu=&aihubDataSe=realm&dataSetSn=528"
   ]
  }
 ],
 "metadata": {
  "accelerator": "GPU",
  "colab": {
   "gpuType": "T4",
   "provenance": []
  },
  "kernelspec": {
   "display_name": "base",
   "language": "python",
   "name": "python3"
  },
  "language_info": {
   "codemirror_mode": {
    "name": "ipython",
    "version": 3
   },
   "file_extension": ".py",
   "mimetype": "text/x-python",
   "name": "python",
   "nbconvert_exporter": "python",
   "pygments_lexer": "ipython3",
   "version": "3.12.3"
  }
 },
 "nbformat": 4,
 "nbformat_minor": 4
}
