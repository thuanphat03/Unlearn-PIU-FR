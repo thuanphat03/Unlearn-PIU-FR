{
 "cells": [
  {
   "cell_type": "markdown",
   "metadata": {},
   "source": [
    "#### <b>Download the Original Datasets</b>\n",
    "\n",
    "The Japanese Female Facial Expression (JAFFE) Dataset\n",
    "\n",
    "\n",
    "Authors: Lyons, Michael; Kamachi, Miyuki;  Gyoba, Jiro\n",
    "\n",
    "Specifications:\n",
    "\n",
    "10 Japanese female expressers\n",
    "\n",
    "7 Posed Facial Expressions (6 basic facial expressions + 1 neutral)\n",
    "\n",
    "Several images of each expression for each expresser \n",
    "\n",
    "213 images total\n",
    "\n",
    "Each image has averaged semantic ratings on 6 facial expressions by 60 Japanese viewers\n",
    "\n",
    "Resolution 256x256 pixels\n",
    "\n",
    "8-bit grayscale;; Tiff format, no compression\n",
    "\n",
    "The image dataset was planned and assembled by Michael Lyons, Miyuki Kamachi, and Jiro Gyoba, at Kyushu University, Japan.\n",
    "\n",
    "\"The JAFFE images may be used for non-commercial scientific research under certain terms of use, which must be accepted to access the data.\"\n",
    "\n",
    "\"The following article describes the JAFFE images and how they were photographed:\n",
    "Michael J. Lyons, Miyuki Kamachi, Jiro Gyoba.\"\n",
    "\n",
    "https://zenodo.org/record/3451524#.YcSqWmDMK3A"
   ]
  }
 ],
 "metadata": {
  "accelerator": "GPU",
  "colab": {
   "gpuType": "T4",
   "provenance": []
  },
  "kernelspec": {
   "display_name": "base",
   "language": "python",
   "name": "python3"
  },
  "language_info": {
   "codemirror_mode": {
    "name": "ipython",
    "version": 3
   },
   "file_extension": ".py",
   "mimetype": "text/x-python",
   "name": "python",
   "nbconvert_exporter": "python",
   "pygments_lexer": "ipython3",
   "version": "3.12.3"
  }
 },
 "nbformat": 4,
 "nbformat_minor": 4
}
